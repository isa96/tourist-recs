{
  "nbformat": 4,
  "nbformat_minor": 0,
  "metadata": {
    "colab": {
      "name": "Content-Based Model.ipynb",
      "provenance": [],
      "collapsed_sections": [
        "VjB0ThUXkvdi",
        "xGkyEy2Ok05Z",
        "ZsUsXdUSlTDU"
      ],
      "authorship_tag": "ABX9TyMeLApOW82yTjkDtHQvdIy8",
      "include_colab_link": true
    },
    "kernelspec": {
      "name": "python3",
      "display_name": "Python 3"
    },
    "language_info": {
      "name": "python"
    }
  },
  "cells": [
    {
      "cell_type": "markdown",
      "metadata": {
        "id": "view-in-github",
        "colab_type": "text"
      },
      "source": [
        "<a href=\"https://colab.research.google.com/github/Alvin-Buana/Tourist-Recommendation/blob/main/Content_Based_Model.ipynb\" target=\"_parent\"><img src=\"https://colab.research.google.com/assets/colab-badge.svg\" alt=\"Open In Colab\"/></a>"
      ]
    },
    {
      "cell_type": "code",
      "execution_count": 1,
      "metadata": {
        "colab": {
          "base_uri": "https://localhost:8080/"
        },
        "id": "KPnDTm-zi2qe",
        "outputId": "480d3b71-92e8-4e7f-9219-da63676e9c26"
      },
      "outputs": [
        {
          "output_type": "stream",
          "name": "stdout",
          "text": [
            "Collecting opendatasets\n",
            "  Downloading opendatasets-0.1.20-py3-none-any.whl (14 kB)\n",
            "Requirement already satisfied: kaggle in /usr/local/lib/python3.7/dist-packages (from opendatasets) (1.5.12)\n",
            "Requirement already satisfied: tqdm in /usr/local/lib/python3.7/dist-packages (from opendatasets) (4.62.3)\n",
            "Requirement already satisfied: click in /usr/local/lib/python3.7/dist-packages (from opendatasets) (7.1.2)\n",
            "Requirement already satisfied: python-dateutil in /usr/local/lib/python3.7/dist-packages (from kaggle->opendatasets) (2.8.2)\n",
            "Requirement already satisfied: urllib3 in /usr/local/lib/python3.7/dist-packages (from kaggle->opendatasets) (1.24.3)\n",
            "Requirement already satisfied: requests in /usr/local/lib/python3.7/dist-packages (from kaggle->opendatasets) (2.23.0)\n",
            "Requirement already satisfied: python-slugify in /usr/local/lib/python3.7/dist-packages (from kaggle->opendatasets) (5.0.2)\n",
            "Requirement already satisfied: six>=1.10 in /usr/local/lib/python3.7/dist-packages (from kaggle->opendatasets) (1.15.0)\n",
            "Requirement already satisfied: certifi in /usr/local/lib/python3.7/dist-packages (from kaggle->opendatasets) (2021.10.8)\n",
            "Requirement already satisfied: text-unidecode>=1.3 in /usr/local/lib/python3.7/dist-packages (from python-slugify->kaggle->opendatasets) (1.3)\n",
            "Requirement already satisfied: chardet<4,>=3.0.2 in /usr/local/lib/python3.7/dist-packages (from requests->kaggle->opendatasets) (3.0.4)\n",
            "Requirement already satisfied: idna<3,>=2.5 in /usr/local/lib/python3.7/dist-packages (from requests->kaggle->opendatasets) (2.10)\n",
            "Installing collected packages: opendatasets\n",
            "Successfully installed opendatasets-0.1.20\n"
          ]
        }
      ],
      "source": [
        "!pip install opendatasets"
      ]
    },
    {
      "cell_type": "code",
      "source": [
        "import opendatasets as od\n",
        "od.download(\"https://www.kaggle.com/aprabowo/indonesia-tourism-destination\")"
      ],
      "metadata": {
        "colab": {
          "base_uri": "https://localhost:8080/"
        },
        "id": "2ztEXvgEi7uu",
        "outputId": "1785c0a4-e4d3-4170-a006-cac940fbb78a"
      },
      "execution_count": 2,
      "outputs": [
        {
          "output_type": "stream",
          "name": "stdout",
          "text": [
            "Downloading indonesia-tourism-destination.zip to ./indonesia-tourism-destination\n"
          ]
        },
        {
          "output_type": "stream",
          "name": "stderr",
          "text": [
            "100%|██████████| 158k/158k [00:00<00:00, 18.6MB/s]"
          ]
        },
        {
          "output_type": "stream",
          "name": "stdout",
          "text": [
            "\n"
          ]
        },
        {
          "output_type": "stream",
          "name": "stderr",
          "text": [
            "\n"
          ]
        }
      ]
    },
    {
      "cell_type": "code",
      "source": [
        "import pandas as pd\n",
        "import numpy as np"
      ],
      "metadata": {
        "id": "dqw20YI4jAQJ"
      },
      "execution_count": 3,
      "outputs": []
    },
    {
      "cell_type": "code",
      "source": [
        "data_rating = pd.read_csv('/content/indonesia-tourism-destination/tourism_rating.csv')\n",
        "data_tourism = pd.read_csv('indonesia-tourism-destination/tourism_with_id.csv')\n"
      ],
      "metadata": {
        "id": "FhcI2-oijMb_"
      },
      "execution_count": 4,
      "outputs": []
    },
    {
      "cell_type": "code",
      "source": [
        "category=[]\n",
        "place_tourism = data_tourism.copy()\n",
        "place_tourism = place_tourism[['Place_Name','Category']]\n",
        "category = list(data_tourism.Category.unique())\n",
        "\n",
        "\n",
        "for x in category:\n",
        "    place_tourism[x] = 0\n",
        "for i in range(len(place_tourism.Category)):\n",
        "        x = place_tourism.Category[i]\n",
        "        place_tourism[x][i]=1\n",
        "place_tourism = place_tourism.set_index('Place_Name')\n",
        "place_tourism"
      ],
      "metadata": {
        "colab": {
          "base_uri": "https://localhost:8080/",
          "height": 546
        },
        "id": "t7TrIRB2juu6",
        "outputId": "597fb884-0d32-44bc-b4ef-df1b25995621"
      },
      "execution_count": 10,
      "outputs": [
        {
          "output_type": "stream",
          "name": "stderr",
          "text": [
            "/usr/local/lib/python3.7/dist-packages/ipykernel_launcher.py:11: SettingWithCopyWarning: \n",
            "A value is trying to be set on a copy of a slice from a DataFrame\n",
            "\n",
            "See the caveats in the documentation: https://pandas.pydata.org/pandas-docs/stable/user_guide/indexing.html#returning-a-view-versus-a-copy\n",
            "  # This is added back by InteractiveShellApp.init_path()\n"
          ]
        },
        {
          "output_type": "execute_result",
          "data": {
            "text/html": [
              "<div>\n",
              "<style scoped>\n",
              "    .dataframe tbody tr th:only-of-type {\n",
              "        vertical-align: middle;\n",
              "    }\n",
              "\n",
              "    .dataframe tbody tr th {\n",
              "        vertical-align: top;\n",
              "    }\n",
              "\n",
              "    .dataframe thead th {\n",
              "        text-align: right;\n",
              "    }\n",
              "</style>\n",
              "<table border=\"1\" class=\"dataframe\">\n",
              "  <thead>\n",
              "    <tr style=\"text-align: right;\">\n",
              "      <th></th>\n",
              "      <th>Category</th>\n",
              "      <th>Budaya</th>\n",
              "      <th>Taman Hiburan</th>\n",
              "      <th>Cagar Alam</th>\n",
              "      <th>Bahari</th>\n",
              "      <th>Pusat Perbelanjaan</th>\n",
              "      <th>Tempat Ibadah</th>\n",
              "    </tr>\n",
              "    <tr>\n",
              "      <th>Place_Name</th>\n",
              "      <th></th>\n",
              "      <th></th>\n",
              "      <th></th>\n",
              "      <th></th>\n",
              "      <th></th>\n",
              "      <th></th>\n",
              "      <th></th>\n",
              "    </tr>\n",
              "  </thead>\n",
              "  <tbody>\n",
              "    <tr>\n",
              "      <th>Monumen Nasional</th>\n",
              "      <td>Budaya</td>\n",
              "      <td>1</td>\n",
              "      <td>0</td>\n",
              "      <td>0</td>\n",
              "      <td>0</td>\n",
              "      <td>0</td>\n",
              "      <td>0</td>\n",
              "    </tr>\n",
              "    <tr>\n",
              "      <th>Kota Tua</th>\n",
              "      <td>Budaya</td>\n",
              "      <td>1</td>\n",
              "      <td>0</td>\n",
              "      <td>0</td>\n",
              "      <td>0</td>\n",
              "      <td>0</td>\n",
              "      <td>0</td>\n",
              "    </tr>\n",
              "    <tr>\n",
              "      <th>Dunia Fantasi</th>\n",
              "      <td>Taman Hiburan</td>\n",
              "      <td>0</td>\n",
              "      <td>1</td>\n",
              "      <td>0</td>\n",
              "      <td>0</td>\n",
              "      <td>0</td>\n",
              "      <td>0</td>\n",
              "    </tr>\n",
              "    <tr>\n",
              "      <th>Taman Mini Indonesia Indah (TMII)</th>\n",
              "      <td>Taman Hiburan</td>\n",
              "      <td>0</td>\n",
              "      <td>1</td>\n",
              "      <td>0</td>\n",
              "      <td>0</td>\n",
              "      <td>0</td>\n",
              "      <td>0</td>\n",
              "    </tr>\n",
              "    <tr>\n",
              "      <th>Atlantis Water Adventure</th>\n",
              "      <td>Taman Hiburan</td>\n",
              "      <td>0</td>\n",
              "      <td>1</td>\n",
              "      <td>0</td>\n",
              "      <td>0</td>\n",
              "      <td>0</td>\n",
              "      <td>0</td>\n",
              "    </tr>\n",
              "    <tr>\n",
              "      <th>...</th>\n",
              "      <td>...</td>\n",
              "      <td>...</td>\n",
              "      <td>...</td>\n",
              "      <td>...</td>\n",
              "      <td>...</td>\n",
              "      <td>...</td>\n",
              "      <td>...</td>\n",
              "    </tr>\n",
              "    <tr>\n",
              "      <th>Museum Mpu Tantular</th>\n",
              "      <td>Budaya</td>\n",
              "      <td>1</td>\n",
              "      <td>0</td>\n",
              "      <td>0</td>\n",
              "      <td>0</td>\n",
              "      <td>0</td>\n",
              "      <td>0</td>\n",
              "    </tr>\n",
              "    <tr>\n",
              "      <th>Taman Bungkul</th>\n",
              "      <td>Taman Hiburan</td>\n",
              "      <td>0</td>\n",
              "      <td>1</td>\n",
              "      <td>0</td>\n",
              "      <td>0</td>\n",
              "      <td>0</td>\n",
              "      <td>0</td>\n",
              "    </tr>\n",
              "    <tr>\n",
              "      <th>Taman Air Mancur Menari Kenjeran</th>\n",
              "      <td>Taman Hiburan</td>\n",
              "      <td>0</td>\n",
              "      <td>1</td>\n",
              "      <td>0</td>\n",
              "      <td>0</td>\n",
              "      <td>0</td>\n",
              "      <td>0</td>\n",
              "    </tr>\n",
              "    <tr>\n",
              "      <th>Taman Flora Bratang Surabaya</th>\n",
              "      <td>Taman Hiburan</td>\n",
              "      <td>0</td>\n",
              "      <td>1</td>\n",
              "      <td>0</td>\n",
              "      <td>0</td>\n",
              "      <td>0</td>\n",
              "      <td>0</td>\n",
              "    </tr>\n",
              "    <tr>\n",
              "      <th>Gereja Perawan Maria Tak Berdosa Surabaya</th>\n",
              "      <td>Tempat Ibadah</td>\n",
              "      <td>0</td>\n",
              "      <td>0</td>\n",
              "      <td>0</td>\n",
              "      <td>0</td>\n",
              "      <td>0</td>\n",
              "      <td>1</td>\n",
              "    </tr>\n",
              "  </tbody>\n",
              "</table>\n",
              "<p>437 rows × 7 columns</p>\n",
              "</div>"
            ],
            "text/plain": [
              "                                                Category  ...  Tempat Ibadah\n",
              "Place_Name                                                ...               \n",
              "Monumen Nasional                                  Budaya  ...              0\n",
              "Kota Tua                                          Budaya  ...              0\n",
              "Dunia Fantasi                              Taman Hiburan  ...              0\n",
              "Taman Mini Indonesia Indah (TMII)          Taman Hiburan  ...              0\n",
              "Atlantis Water Adventure                   Taman Hiburan  ...              0\n",
              "...                                                  ...  ...            ...\n",
              "Museum Mpu Tantular                               Budaya  ...              0\n",
              "Taman Bungkul                              Taman Hiburan  ...              0\n",
              "Taman Air Mancur Menari Kenjeran           Taman Hiburan  ...              0\n",
              "Taman Flora Bratang Surabaya               Taman Hiburan  ...              0\n",
              "Gereja Perawan Maria Tak Berdosa Surabaya  Tempat Ibadah  ...              1\n",
              "\n",
              "[437 rows x 7 columns]"
            ]
          },
          "metadata": {},
          "execution_count": 10
        }
      ]
    },
    {
      "cell_type": "code",
      "source": [
        "place_tourism = place_tourism.drop('Category',axis=1)\n",
        "place_tourism = csr_matrix(place_tourism.values)"
      ],
      "metadata": {
        "id": "c3hOBUI9kEX8"
      },
      "execution_count": 11,
      "outputs": []
    },
    {
      "cell_type": "markdown",
      "source": [
        "# Modelling"
      ],
      "metadata": {
        "id": "Q1HnR724llLb"
      }
    },
    {
      "cell_type": "markdown",
      "source": [
        "## Set the model function"
      ],
      "metadata": {
        "id": "NOOIZ1tCloqh"
      }
    },
    {
      "cell_type": "code",
      "source": [
        "def model(model,place):\n",
        "  model_df = model(place_tourism)\n",
        "  model_df = pd.DataFrame(model_df, index=data_tourism['Place_Name'], columns=data_tourism['Place_Name'])\n",
        "  count = 5\n",
        "  items=data_tourism[['Place_Name','Category','City','Rating','Price','Time_Minutes']]\n",
        "  index = model_df.loc[:,place].to_numpy().argpartition(range(-1, -count, -1))\n",
        "  closest = model_df.columns[index[-1:-(count+2):-1]]\n",
        "  closest = closest.drop(place, errors='ignore')\n",
        "  new_rec = pd.DataFrame(closest).merge(items).head(count)\n",
        "  cat = data_tourism.Category[data_tourism['Place_Name']== place].iloc[0]\n",
        "  where = data_tourism.City[data_tourism['Place_Name']== place].iloc[0]\n",
        "  new_rec = new_rec.style.set_caption(\"Recommendation for {} (Category : {} ,Place : {})\".format(place,cat,where))\n",
        "\n",
        "  return new_rec\n"
      ],
      "metadata": {
        "id": "VCObrlPwkJ7Y"
      },
      "execution_count": 17,
      "outputs": []
    },
    {
      "cell_type": "markdown",
      "source": [
        "## Using Sigmoid Kernel"
      ],
      "metadata": {
        "id": "VjB0ThUXkvdi"
      }
    },
    {
      "cell_type": "code",
      "source": [
        "from sklearn.metrics.pairwise import sigmoid_kernel\n",
        "\n",
        "place = data_tourism.Place_Name.sample(1).iloc[0]\n",
        "\n",
        "test = model(sigmoid_kernel,place)\n",
        "test"
      ],
      "metadata": {
        "colab": {
          "base_uri": "https://localhost:8080/",
          "height": 223
        },
        "id": "cgLB7BlukPQX",
        "outputId": "a7fbbe22-f78c-459f-82f7-75831f0ddefb"
      },
      "execution_count": 18,
      "outputs": [
        {
          "output_type": "execute_result",
          "data": {
            "text/html": [
              "<style  type=\"text/css\" >\n",
              "</style><table id=\"T_97879480_5970_11ec_9cf3_0242ac1c0002\" class=\"dataframe\"><caption>Recommendation for Pantai Ngobaran (Category : Bahari ,Place : Yogyakarta)</caption><thead>    <tr>        <th class=\"blank level0\" ></th>        <th class=\"col_heading level0 col0\" >Place_Name</th>        <th class=\"col_heading level0 col1\" >Category</th>        <th class=\"col_heading level0 col2\" >City</th>        <th class=\"col_heading level0 col3\" >Rating</th>        <th class=\"col_heading level0 col4\" >Price</th>        <th class=\"col_heading level0 col5\" >Time_Minutes</th>    </tr></thead><tbody>\n",
              "                <tr>\n",
              "                        <th id=\"T_97879480_5970_11ec_9cf3_0242ac1c0002level0_row0\" class=\"row_heading level0 row0\" >0</th>\n",
              "                        <td id=\"T_97879480_5970_11ec_9cf3_0242ac1c0002row0_col0\" class=\"data row0 col0\" >Pantai Pok Tunggal</td>\n",
              "                        <td id=\"T_97879480_5970_11ec_9cf3_0242ac1c0002row0_col1\" class=\"data row0 col1\" >Bahari</td>\n",
              "                        <td id=\"T_97879480_5970_11ec_9cf3_0242ac1c0002row0_col2\" class=\"data row0 col2\" >Yogyakarta</td>\n",
              "                        <td id=\"T_97879480_5970_11ec_9cf3_0242ac1c0002row0_col3\" class=\"data row0 col3\" >4.500000</td>\n",
              "                        <td id=\"T_97879480_5970_11ec_9cf3_0242ac1c0002row0_col4\" class=\"data row0 col4\" >10000</td>\n",
              "                        <td id=\"T_97879480_5970_11ec_9cf3_0242ac1c0002row0_col5\" class=\"data row0 col5\" >nan</td>\n",
              "            </tr>\n",
              "            <tr>\n",
              "                        <th id=\"T_97879480_5970_11ec_9cf3_0242ac1c0002level0_row1\" class=\"row_heading level0 row1\" >1</th>\n",
              "                        <td id=\"T_97879480_5970_11ec_9cf3_0242ac1c0002row1_col0\" class=\"data row1 col0\" >Pantai Drini</td>\n",
              "                        <td id=\"T_97879480_5970_11ec_9cf3_0242ac1c0002row1_col1\" class=\"data row1 col1\" >Bahari</td>\n",
              "                        <td id=\"T_97879480_5970_11ec_9cf3_0242ac1c0002row1_col2\" class=\"data row1 col2\" >Yogyakarta</td>\n",
              "                        <td id=\"T_97879480_5970_11ec_9cf3_0242ac1c0002row1_col3\" class=\"data row1 col3\" >4.500000</td>\n",
              "                        <td id=\"T_97879480_5970_11ec_9cf3_0242ac1c0002row1_col4\" class=\"data row1 col4\" >10000</td>\n",
              "                        <td id=\"T_97879480_5970_11ec_9cf3_0242ac1c0002row1_col5\" class=\"data row1 col5\" >nan</td>\n",
              "            </tr>\n",
              "            <tr>\n",
              "                        <th id=\"T_97879480_5970_11ec_9cf3_0242ac1c0002level0_row2\" class=\"row_heading level0 row2\" >2</th>\n",
              "                        <td id=\"T_97879480_5970_11ec_9cf3_0242ac1c0002row2_col0\" class=\"data row2 col0\" >Pantai Sadranan</td>\n",
              "                        <td id=\"T_97879480_5970_11ec_9cf3_0242ac1c0002row2_col1\" class=\"data row2 col1\" >Bahari</td>\n",
              "                        <td id=\"T_97879480_5970_11ec_9cf3_0242ac1c0002row2_col2\" class=\"data row2 col2\" >Yogyakarta</td>\n",
              "                        <td id=\"T_97879480_5970_11ec_9cf3_0242ac1c0002row2_col3\" class=\"data row2 col3\" >4.600000</td>\n",
              "                        <td id=\"T_97879480_5970_11ec_9cf3_0242ac1c0002row2_col4\" class=\"data row2 col4\" >10000</td>\n",
              "                        <td id=\"T_97879480_5970_11ec_9cf3_0242ac1c0002row2_col5\" class=\"data row2 col5\" >nan</td>\n",
              "            </tr>\n",
              "            <tr>\n",
              "                        <th id=\"T_97879480_5970_11ec_9cf3_0242ac1c0002level0_row3\" class=\"row_heading level0 row3\" >3</th>\n",
              "                        <td id=\"T_97879480_5970_11ec_9cf3_0242ac1c0002row3_col0\" class=\"data row3 col0\" >Pantai Samas</td>\n",
              "                        <td id=\"T_97879480_5970_11ec_9cf3_0242ac1c0002row3_col1\" class=\"data row3 col1\" >Bahari</td>\n",
              "                        <td id=\"T_97879480_5970_11ec_9cf3_0242ac1c0002row3_col2\" class=\"data row3 col2\" >Yogyakarta</td>\n",
              "                        <td id=\"T_97879480_5970_11ec_9cf3_0242ac1c0002row3_col3\" class=\"data row3 col3\" >4.000000</td>\n",
              "                        <td id=\"T_97879480_5970_11ec_9cf3_0242ac1c0002row3_col4\" class=\"data row3 col4\" >4000</td>\n",
              "                        <td id=\"T_97879480_5970_11ec_9cf3_0242ac1c0002row3_col5\" class=\"data row3 col5\" >45.000000</td>\n",
              "            </tr>\n",
              "            <tr>\n",
              "                        <th id=\"T_97879480_5970_11ec_9cf3_0242ac1c0002level0_row4\" class=\"row_heading level0 row4\" >4</th>\n",
              "                        <td id=\"T_97879480_5970_11ec_9cf3_0242ac1c0002row4_col0\" class=\"data row4 col0\" >Pantai Nguluran</td>\n",
              "                        <td id=\"T_97879480_5970_11ec_9cf3_0242ac1c0002row4_col1\" class=\"data row4 col1\" >Bahari</td>\n",
              "                        <td id=\"T_97879480_5970_11ec_9cf3_0242ac1c0002row4_col2\" class=\"data row4 col2\" >Yogyakarta</td>\n",
              "                        <td id=\"T_97879480_5970_11ec_9cf3_0242ac1c0002row4_col3\" class=\"data row4 col3\" >4.100000</td>\n",
              "                        <td id=\"T_97879480_5970_11ec_9cf3_0242ac1c0002row4_col4\" class=\"data row4 col4\" >10000</td>\n",
              "                        <td id=\"T_97879480_5970_11ec_9cf3_0242ac1c0002row4_col5\" class=\"data row4 col5\" >nan</td>\n",
              "            </tr>\n",
              "    </tbody></table>"
            ],
            "text/plain": [
              "<pandas.io.formats.style.Styler at 0x7fc222be6410>"
            ]
          },
          "metadata": {},
          "execution_count": 18
        }
      ]
    },
    {
      "cell_type": "markdown",
      "source": [
        "## Using Cosine Similarity"
      ],
      "metadata": {
        "id": "xGkyEy2Ok05Z"
      }
    },
    {
      "cell_type": "code",
      "source": [
        "from sklearn.metrics.pairwise import cosine_similarity\n",
        "place = data_tourism.Place_Name.sample(1).iloc[0]\n",
        "test = model(cosine_similarity,place)\n",
        "test"
      ],
      "metadata": {
        "colab": {
          "base_uri": "https://localhost:8080/",
          "height": 223
        },
        "id": "8MJUwVb8k6cf",
        "outputId": "d2d11a9a-4587-4efa-871f-bf3218321eed"
      },
      "execution_count": 20,
      "outputs": [
        {
          "output_type": "execute_result",
          "data": {
            "text/html": [
              "<style  type=\"text/css\" >\n",
              "</style><table id=\"T_d9bc5890_5970_11ec_9cf3_0242ac1c0002\" class=\"dataframe\"><caption>Recommendation for Alun-Alun Kota Bandung (Category : Taman Hiburan ,Place : Bandung)</caption><thead>    <tr>        <th class=\"blank level0\" ></th>        <th class=\"col_heading level0 col0\" >Place_Name</th>        <th class=\"col_heading level0 col1\" >Category</th>        <th class=\"col_heading level0 col2\" >City</th>        <th class=\"col_heading level0 col3\" >Rating</th>        <th class=\"col_heading level0 col4\" >Price</th>        <th class=\"col_heading level0 col5\" >Time_Minutes</th>    </tr></thead><tbody>\n",
              "                <tr>\n",
              "                        <th id=\"T_d9bc5890_5970_11ec_9cf3_0242ac1c0002level0_row0\" class=\"row_heading level0 row0\" >0</th>\n",
              "                        <td id=\"T_d9bc5890_5970_11ec_9cf3_0242ac1c0002row0_col0\" class=\"data row0 col0\" >Dago Dreampark</td>\n",
              "                        <td id=\"T_d9bc5890_5970_11ec_9cf3_0242ac1c0002row0_col1\" class=\"data row0 col1\" >Taman Hiburan</td>\n",
              "                        <td id=\"T_d9bc5890_5970_11ec_9cf3_0242ac1c0002row0_col2\" class=\"data row0 col2\" >Bandung</td>\n",
              "                        <td id=\"T_d9bc5890_5970_11ec_9cf3_0242ac1c0002row0_col3\" class=\"data row0 col3\" >4.200000</td>\n",
              "                        <td id=\"T_d9bc5890_5970_11ec_9cf3_0242ac1c0002row0_col4\" class=\"data row0 col4\" >40000</td>\n",
              "                        <td id=\"T_d9bc5890_5970_11ec_9cf3_0242ac1c0002row0_col5\" class=\"data row0 col5\" >150.000000</td>\n",
              "            </tr>\n",
              "            <tr>\n",
              "                        <th id=\"T_d9bc5890_5970_11ec_9cf3_0242ac1c0002level0_row1\" class=\"row_heading level0 row1\" >1</th>\n",
              "                        <td id=\"T_d9bc5890_5970_11ec_9cf3_0242ac1c0002row1_col0\" class=\"data row1 col0\" >Panghegar Waterboom Bandung</td>\n",
              "                        <td id=\"T_d9bc5890_5970_11ec_9cf3_0242ac1c0002row1_col1\" class=\"data row1 col1\" >Taman Hiburan</td>\n",
              "                        <td id=\"T_d9bc5890_5970_11ec_9cf3_0242ac1c0002row1_col2\" class=\"data row1 col2\" >Bandung</td>\n",
              "                        <td id=\"T_d9bc5890_5970_11ec_9cf3_0242ac1c0002row1_col3\" class=\"data row1 col3\" >4.300000</td>\n",
              "                        <td id=\"T_d9bc5890_5970_11ec_9cf3_0242ac1c0002row1_col4\" class=\"data row1 col4\" >75000</td>\n",
              "                        <td id=\"T_d9bc5890_5970_11ec_9cf3_0242ac1c0002row1_col5\" class=\"data row1 col5\" >nan</td>\n",
              "            </tr>\n",
              "            <tr>\n",
              "                        <th id=\"T_d9bc5890_5970_11ec_9cf3_0242ac1c0002level0_row2\" class=\"row_heading level0 row2\" >2</th>\n",
              "                        <td id=\"T_d9bc5890_5970_11ec_9cf3_0242ac1c0002row2_col0\" class=\"data row2 col0\" >Alive Museum Ancol</td>\n",
              "                        <td id=\"T_d9bc5890_5970_11ec_9cf3_0242ac1c0002row2_col1\" class=\"data row2 col1\" >Taman Hiburan</td>\n",
              "                        <td id=\"T_d9bc5890_5970_11ec_9cf3_0242ac1c0002row2_col2\" class=\"data row2 col2\" >Jakarta</td>\n",
              "                        <td id=\"T_d9bc5890_5970_11ec_9cf3_0242ac1c0002row2_col3\" class=\"data row2 col3\" >4.300000</td>\n",
              "                        <td id=\"T_d9bc5890_5970_11ec_9cf3_0242ac1c0002row2_col4\" class=\"data row2 col4\" >200000</td>\n",
              "                        <td id=\"T_d9bc5890_5970_11ec_9cf3_0242ac1c0002row2_col5\" class=\"data row2 col5\" >nan</td>\n",
              "            </tr>\n",
              "            <tr>\n",
              "                        <th id=\"T_d9bc5890_5970_11ec_9cf3_0242ac1c0002level0_row3\" class=\"row_heading level0 row3\" >3</th>\n",
              "                        <td id=\"T_d9bc5890_5970_11ec_9cf3_0242ac1c0002row3_col0\" class=\"data row3 col0\" >Glamping Lakeside Rancabali</td>\n",
              "                        <td id=\"T_d9bc5890_5970_11ec_9cf3_0242ac1c0002row3_col1\" class=\"data row3 col1\" >Taman Hiburan</td>\n",
              "                        <td id=\"T_d9bc5890_5970_11ec_9cf3_0242ac1c0002row3_col2\" class=\"data row3 col2\" >Bandung</td>\n",
              "                        <td id=\"T_d9bc5890_5970_11ec_9cf3_0242ac1c0002row3_col3\" class=\"data row3 col3\" >4.400000</td>\n",
              "                        <td id=\"T_d9bc5890_5970_11ec_9cf3_0242ac1c0002row3_col4\" class=\"data row3 col4\" >30000</td>\n",
              "                        <td id=\"T_d9bc5890_5970_11ec_9cf3_0242ac1c0002row3_col5\" class=\"data row3 col5\" >nan</td>\n",
              "            </tr>\n",
              "            <tr>\n",
              "                        <th id=\"T_d9bc5890_5970_11ec_9cf3_0242ac1c0002level0_row4\" class=\"row_heading level0 row4\" >4</th>\n",
              "                        <td id=\"T_d9bc5890_5970_11ec_9cf3_0242ac1c0002row4_col0\" class=\"data row4 col0\" >Taman Miniatur Kereta Api</td>\n",
              "                        <td id=\"T_d9bc5890_5970_11ec_9cf3_0242ac1c0002row4_col1\" class=\"data row4 col1\" >Taman Hiburan</td>\n",
              "                        <td id=\"T_d9bc5890_5970_11ec_9cf3_0242ac1c0002row4_col2\" class=\"data row4 col2\" >Bandung</td>\n",
              "                        <td id=\"T_d9bc5890_5970_11ec_9cf3_0242ac1c0002row4_col3\" class=\"data row4 col3\" >4.400000</td>\n",
              "                        <td id=\"T_d9bc5890_5970_11ec_9cf3_0242ac1c0002row4_col4\" class=\"data row4 col4\" >15000</td>\n",
              "                        <td id=\"T_d9bc5890_5970_11ec_9cf3_0242ac1c0002row4_col5\" class=\"data row4 col5\" >nan</td>\n",
              "            </tr>\n",
              "    </tbody></table>"
            ],
            "text/plain": [
              "<pandas.io.formats.style.Styler at 0x7fc22297d7d0>"
            ]
          },
          "metadata": {},
          "execution_count": 20
        }
      ]
    },
    {
      "cell_type": "markdown",
      "source": [
        "## Using Eucledian Distance"
      ],
      "metadata": {
        "id": "ZsUsXdUSlTDU"
      }
    },
    {
      "cell_type": "code",
      "source": [
        "from sklearn.metrics.pairwise import euclidean_distances\n",
        "place = data_tourism.Place_Name.sample(1).iloc[0]\n",
        "test = model(euclidean_distances,place)\n",
        "test"
      ],
      "metadata": {
        "colab": {
          "base_uri": "https://localhost:8080/",
          "height": 223
        },
        "id": "SAsDxm3plVc-",
        "outputId": "d8c05330-b843-4944-b08a-8e157706b78d"
      },
      "execution_count": 21,
      "outputs": [
        {
          "output_type": "execute_result",
          "data": {
            "text/html": [
              "<style  type=\"text/css\" >\n",
              "</style><table id=\"T_08d12dae_5971_11ec_9cf3_0242ac1c0002\" class=\"dataframe\"><caption>Recommendation for Pantai Pok Tunggal (Category : Bahari ,Place : Yogyakarta)</caption><thead>    <tr>        <th class=\"blank level0\" ></th>        <th class=\"col_heading level0 col0\" >Place_Name</th>        <th class=\"col_heading level0 col1\" >Category</th>        <th class=\"col_heading level0 col2\" >City</th>        <th class=\"col_heading level0 col3\" >Rating</th>        <th class=\"col_heading level0 col4\" >Price</th>        <th class=\"col_heading level0 col5\" >Time_Minutes</th>    </tr></thead><tbody>\n",
              "                <tr>\n",
              "                        <th id=\"T_08d12dae_5971_11ec_9cf3_0242ac1c0002level0_row0\" class=\"row_heading level0 row0\" >0</th>\n",
              "                        <td id=\"T_08d12dae_5971_11ec_9cf3_0242ac1c0002row0_col0\" class=\"data row0 col0\" >Gereja Perawan Maria Tak Berdosa Surabaya</td>\n",
              "                        <td id=\"T_08d12dae_5971_11ec_9cf3_0242ac1c0002row0_col1\" class=\"data row0 col1\" >Tempat Ibadah</td>\n",
              "                        <td id=\"T_08d12dae_5971_11ec_9cf3_0242ac1c0002row0_col2\" class=\"data row0 col2\" >Surabaya</td>\n",
              "                        <td id=\"T_08d12dae_5971_11ec_9cf3_0242ac1c0002row0_col3\" class=\"data row0 col3\" >4.800000</td>\n",
              "                        <td id=\"T_08d12dae_5971_11ec_9cf3_0242ac1c0002row0_col4\" class=\"data row0 col4\" >10000</td>\n",
              "                        <td id=\"T_08d12dae_5971_11ec_9cf3_0242ac1c0002row0_col5\" class=\"data row0 col5\" >nan</td>\n",
              "            </tr>\n",
              "            <tr>\n",
              "                        <th id=\"T_08d12dae_5971_11ec_9cf3_0242ac1c0002level0_row1\" class=\"row_heading level0 row1\" >1</th>\n",
              "                        <td id=\"T_08d12dae_5971_11ec_9cf3_0242ac1c0002row1_col0\" class=\"data row1 col0\" >Bunker Kaliadem Merapi</td>\n",
              "                        <td id=\"T_08d12dae_5971_11ec_9cf3_0242ac1c0002row1_col1\" class=\"data row1 col1\" >Cagar Alam</td>\n",
              "                        <td id=\"T_08d12dae_5971_11ec_9cf3_0242ac1c0002row1_col2\" class=\"data row1 col2\" >Yogyakarta</td>\n",
              "                        <td id=\"T_08d12dae_5971_11ec_9cf3_0242ac1c0002row1_col3\" class=\"data row1 col3\" >4.500000</td>\n",
              "                        <td id=\"T_08d12dae_5971_11ec_9cf3_0242ac1c0002row1_col4\" class=\"data row1 col4\" >3000</td>\n",
              "                        <td id=\"T_08d12dae_5971_11ec_9cf3_0242ac1c0002row1_col5\" class=\"data row1 col5\" >45.000000</td>\n",
              "            </tr>\n",
              "            <tr>\n",
              "                        <th id=\"T_08d12dae_5971_11ec_9cf3_0242ac1c0002level0_row2\" class=\"row_heading level0 row2\" >2</th>\n",
              "                        <td id=\"T_08d12dae_5971_11ec_9cf3_0242ac1c0002row2_col0\" class=\"data row2 col0\" >Goa Jomblang</td>\n",
              "                        <td id=\"T_08d12dae_5971_11ec_9cf3_0242ac1c0002row2_col1\" class=\"data row2 col1\" >Cagar Alam</td>\n",
              "                        <td id=\"T_08d12dae_5971_11ec_9cf3_0242ac1c0002row2_col2\" class=\"data row2 col2\" >Yogyakarta</td>\n",
              "                        <td id=\"T_08d12dae_5971_11ec_9cf3_0242ac1c0002row2_col3\" class=\"data row2 col3\" >4.600000</td>\n",
              "                        <td id=\"T_08d12dae_5971_11ec_9cf3_0242ac1c0002row2_col4\" class=\"data row2 col4\" >500000</td>\n",
              "                        <td id=\"T_08d12dae_5971_11ec_9cf3_0242ac1c0002row2_col5\" class=\"data row2 col5\" >nan</td>\n",
              "            </tr>\n",
              "            <tr>\n",
              "                        <th id=\"T_08d12dae_5971_11ec_9cf3_0242ac1c0002level0_row3\" class=\"row_heading level0 row3\" >3</th>\n",
              "                        <td id=\"T_08d12dae_5971_11ec_9cf3_0242ac1c0002row3_col0\" class=\"data row3 col0\" >Ledok Sambi</td>\n",
              "                        <td id=\"T_08d12dae_5971_11ec_9cf3_0242ac1c0002row3_col1\" class=\"data row3 col1\" >Cagar Alam</td>\n",
              "                        <td id=\"T_08d12dae_5971_11ec_9cf3_0242ac1c0002row3_col2\" class=\"data row3 col2\" >Yogyakarta</td>\n",
              "                        <td id=\"T_08d12dae_5971_11ec_9cf3_0242ac1c0002row3_col3\" class=\"data row3 col3\" >4.600000</td>\n",
              "                        <td id=\"T_08d12dae_5971_11ec_9cf3_0242ac1c0002row3_col4\" class=\"data row3 col4\" >0</td>\n",
              "                        <td id=\"T_08d12dae_5971_11ec_9cf3_0242ac1c0002row3_col5\" class=\"data row3 col5\" >150.000000</td>\n",
              "            </tr>\n",
              "            <tr>\n",
              "                        <th id=\"T_08d12dae_5971_11ec_9cf3_0242ac1c0002level0_row4\" class=\"row_heading level0 row4\" >4</th>\n",
              "                        <td id=\"T_08d12dae_5971_11ec_9cf3_0242ac1c0002row4_col0\" class=\"data row4 col0\" >Seribu Batu Songgo Langit</td>\n",
              "                        <td id=\"T_08d12dae_5971_11ec_9cf3_0242ac1c0002row4_col1\" class=\"data row4 col1\" >Cagar Alam</td>\n",
              "                        <td id=\"T_08d12dae_5971_11ec_9cf3_0242ac1c0002row4_col2\" class=\"data row4 col2\" >Yogyakarta</td>\n",
              "                        <td id=\"T_08d12dae_5971_11ec_9cf3_0242ac1c0002row4_col3\" class=\"data row4 col3\" >4.600000</td>\n",
              "                        <td id=\"T_08d12dae_5971_11ec_9cf3_0242ac1c0002row4_col4\" class=\"data row4 col4\" >2000</td>\n",
              "                        <td id=\"T_08d12dae_5971_11ec_9cf3_0242ac1c0002row4_col5\" class=\"data row4 col5\" >90.000000</td>\n",
              "            </tr>\n",
              "    </tbody></table>"
            ],
            "text/plain": [
              "<pandas.io.formats.style.Styler at 0x7fc222925650>"
            ]
          },
          "metadata": {},
          "execution_count": 21
        }
      ]
    }
  ]
}